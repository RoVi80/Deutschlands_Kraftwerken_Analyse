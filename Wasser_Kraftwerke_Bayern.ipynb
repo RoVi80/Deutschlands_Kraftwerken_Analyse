{
 "cells": [
  {
   "cell_type": "markdown",
   "id": "18dc9bd9",
   "metadata": {},
   "source": [
    "needed libraries"
   ]
  },
  {
   "cell_type": "code",
   "execution_count": 1,
   "id": "7dbb99c2",
   "metadata": {},
   "outputs": [],
   "source": [
    "from selenium import webdriver\n",
    "from selenium.webdriver.chrome.service import Service\n",
    "from webdriver_manager.chrome import ChromeDriverManager\n",
    "from bs4 import BeautifulSoup \n",
    "import matplotlib.pyplot as plt\n",
    "import requests\n",
    "import pandas as pd\n",
    "from urllib.parse import urlparse\n",
    "import numpy as np\n",
    "%matplotlib inline"
   ]
  },
  {
   "cell_type": "markdown",
   "id": "05f9c229",
   "metadata": {},
   "source": [
    "Variable initialisation"
   ]
  },
  {
   "cell_type": "code",
   "execution_count": 4,
   "id": "3d23793e",
   "metadata": {},
   "outputs": [],
   "source": [
    "#Variable initialisation\n",
    "\n",
    "## webscrapping variables\n",
    "links = []\n",
    "url = 'https://www.landeskraftwerke.bayern/standorte.htm'\n",
    "domain_url = urlparse(url).netloc\n",
    "\n",
    "## data variables\n",
    "location = []\n",
    "inst_power = []\n",
    "yearly_prod_power = []\n",
    "construction_year = []\n",
    "\n"
   ]
  },
  {
   "cell_type": "markdown",
   "id": "9d85ed9c",
   "metadata": {},
   "source": [
    "SCRAPE DATA FROM THE WEBPAGE"
   ]
  },
  {
   "cell_type": "code",
   "execution_count": 5,
   "id": "2ec9b603",
   "metadata": {},
   "outputs": [],
   "source": [
    "# open and prepare the web page for scrapping \n",
    "page = requests.get(url)\n",
    "soup = BeautifulSoup(page.text, 'html.parser')\n",
    "\n",
    "#extract the links from the drop menu\n",
    "content = soup.findAll('ul',attrs={\"class\":\"submenu konventionelle-wasserkrafwerke\"})\n",
    "for item in content:\n",
    "    for link in item.findAll('a'):\n",
    "        href = link.get('href')\n",
    "        links.append('https://' + domain_url + '/' + href)\n",
    "        location.append(href.replace('.htm',''))\n",
    "\n",
    "# get data from the submenu url links        \n",
    "for link in links:\n",
    "    soup_1 = BeautifulSoup(requests.get(link).text, 'html.parser')\n",
    "    content_1 = soup_1.findAll('table', attrs={\"class\":\"tablenormal\"})\n",
    "\n",
    "    #temp values\n",
    "    i = 0\n",
    "\n",
    "    for data in content_1[0].findAll('td', attrs={\"class\":\"col0\"}):\n",
    "        \n",
    "        if data.find('strong') is None:\n",
    "            pass\n",
    "        else:\n",
    "                \n",
    "        # construction year: \n",
    "            if 'Inbetriebnahme' in (data.find('strong').text):\n",
    "                    construction_year.append(content_1[0].findAll('td', attrs={\"class\":\"col1\"})[i].text)\n",
    "        # installed power: \n",
    "            elif 'Installierte Leistung' in (data.find('strong').text):\n",
    "                inst_power.append(content_1[0].findAll('td', attrs={\"class\":\"col1\"})[i].text)\n",
    "        \n",
    "        # yearly produced power:\n",
    "            elif 'Mittlere Jahresarbeit' in (data.find('strong').text):\n",
    "                yearly_prod_power.append(content_1[0].findAll('td', attrs={\"class\":\"col1\"})[i].text)\n",
    "        \n",
    "        i += 1\n"
   ]
  },
  {
   "cell_type": "code",
   "execution_count": 6,
   "id": "4674541b",
   "metadata": {},
   "outputs": [
    {
     "name": "stdout",
     "output_type": "stream",
     "text": [
      "['1,2 Mio. kWh', '0,5 Mio. kWh', '2,9 Mio. kWh', '0,3 Mio. kWh', '3,6 Mio. kWh', '8,1 Mio. kWh', '3,3 Mio. kWh', '0,4 Mio. kWh', '1,1 Mio. kWh', '0,9 Mio. kWh', '2,9 Mio. kWh', '2,3 Mio. kWh', '1,4 Mio. kWh', '0,3 Mio. kWh', '0,8 Mio. kWh', '8,7 Mio. kWh', '16,4 Mio. kWh', '0,1 Mio. kWh']\n",
      "18\n"
     ]
    }
   ],
   "source": [
    "print(yearly_prod_power)\n",
    "print(len(yearly_prod_power))"
   ]
  },
  {
   "cell_type": "code",
   "execution_count": 7,
   "id": "d9a2fdf6",
   "metadata": {},
   "outputs": [
    {
     "name": "stdout",
     "output_type": "stream",
     "text": [
      "['1996', '2008', '1976', '1991', '1982', '1993', '2013', '1967', '1973', '1972', '1994', '2013', '1990', '1967', '1968', '1959, Sanierung 2003', '2000', '1964']\n",
      "18\n"
     ]
    }
   ],
   "source": [
    "print(construction_year)\n",
    "print(len(construction_year))"
   ]
  },
  {
   "cell_type": "code",
   "execution_count": 8,
   "id": "5979200b",
   "metadata": {
    "scrolled": true
   },
   "outputs": [
    {
     "name": "stdout",
     "output_type": "stream",
     "text": [
      "['615 kW', '130 kW', '1.300 KW', '150 kW', '600 kW', '3.300 kW', '1.093 kW', '160 KW', '420 kW', '300 kW', '765 kW', '848 kW', '450 kW', '90 kW', '250 kW', '2.508 kW', '3.780 kW', '40 kW']\n",
      "18\n"
     ]
    }
   ],
   "source": [
    "print (inst_power)\n",
    "print(len(inst_power))\n"
   ]
  },
  {
   "cell_type": "code",
   "execution_count": 9,
   "id": "fc0b1b08",
   "metadata": {
    "scrolled": true
   },
   "outputs": [
    {
     "name": "stdout",
     "output_type": "stream",
     "text": [
      "['brombachsee', 'drachensee', 'eixendorf', 'foermitz', 'frauenau', 'hilpoltstein', 'leerstetten', 'liebenstein', 'mauthaus', 'postmuenster', 'rothsee1', 'rothsee2', 'rottachsee', 'silbersee', 'surspeicher', 'sylvenstein1', 'sylvenstein2', 'windach']\n",
      "18\n"
     ]
    }
   ],
   "source": [
    "print(location)\n",
    "\n",
    "print(len(location))"
   ]
  },
  {
   "cell_type": "code",
   "execution_count": 10,
   "id": "fbf8cfcd",
   "metadata": {},
   "outputs": [],
   "source": [
    "data = {'installed power': inst_power,\n",
    "        'construction year': construction_year,\n",
    "        'yearly produced power': yearly_prod_power}\n",
    "\n",
    "df = pd.DataFrame(data, index=location)"
   ]
  },
  {
   "cell_type": "code",
   "execution_count": 11,
   "id": "ef921276",
   "metadata": {},
   "outputs": [
    {
     "data": {
      "text/html": [
       "<div>\n",
       "<style scoped>\n",
       "    .dataframe tbody tr th:only-of-type {\n",
       "        vertical-align: middle;\n",
       "    }\n",
       "\n",
       "    .dataframe tbody tr th {\n",
       "        vertical-align: top;\n",
       "    }\n",
       "\n",
       "    .dataframe thead th {\n",
       "        text-align: right;\n",
       "    }\n",
       "</style>\n",
       "<table border=\"1\" class=\"dataframe\">\n",
       "  <thead>\n",
       "    <tr style=\"text-align: right;\">\n",
       "      <th></th>\n",
       "      <th>installed power</th>\n",
       "      <th>construction year</th>\n",
       "      <th>yearly produced power</th>\n",
       "    </tr>\n",
       "  </thead>\n",
       "  <tbody>\n",
       "    <tr>\n",
       "      <th>brombachsee</th>\n",
       "      <td>615 kW</td>\n",
       "      <td>1996</td>\n",
       "      <td>1,2 Mio. kWh</td>\n",
       "    </tr>\n",
       "    <tr>\n",
       "      <th>drachensee</th>\n",
       "      <td>130 kW</td>\n",
       "      <td>2008</td>\n",
       "      <td>0,5 Mio. kWh</td>\n",
       "    </tr>\n",
       "    <tr>\n",
       "      <th>eixendorf</th>\n",
       "      <td>1.300 KW</td>\n",
       "      <td>1976</td>\n",
       "      <td>2,9 Mio. kWh</td>\n",
       "    </tr>\n",
       "    <tr>\n",
       "      <th>foermitz</th>\n",
       "      <td>150 kW</td>\n",
       "      <td>1991</td>\n",
       "      <td>0,3 Mio. kWh</td>\n",
       "    </tr>\n",
       "    <tr>\n",
       "      <th>frauenau</th>\n",
       "      <td>600 kW</td>\n",
       "      <td>1982</td>\n",
       "      <td>3,6 Mio. kWh</td>\n",
       "    </tr>\n",
       "    <tr>\n",
       "      <th>hilpoltstein</th>\n",
       "      <td>3.300 kW</td>\n",
       "      <td>1993</td>\n",
       "      <td>8,1 Mio. kWh</td>\n",
       "    </tr>\n",
       "    <tr>\n",
       "      <th>leerstetten</th>\n",
       "      <td>1.093 kW</td>\n",
       "      <td>2013</td>\n",
       "      <td>3,3 Mio. kWh</td>\n",
       "    </tr>\n",
       "    <tr>\n",
       "      <th>liebenstein</th>\n",
       "      <td>160 KW</td>\n",
       "      <td>1967</td>\n",
       "      <td>0,4 Mio. kWh</td>\n",
       "    </tr>\n",
       "    <tr>\n",
       "      <th>mauthaus</th>\n",
       "      <td>420 kW</td>\n",
       "      <td>1973</td>\n",
       "      <td>1,1 Mio. kWh</td>\n",
       "    </tr>\n",
       "    <tr>\n",
       "      <th>postmuenster</th>\n",
       "      <td>300 kW</td>\n",
       "      <td>1972</td>\n",
       "      <td>0,9 Mio. kWh</td>\n",
       "    </tr>\n",
       "    <tr>\n",
       "      <th>rothsee1</th>\n",
       "      <td>765 kW</td>\n",
       "      <td>1994</td>\n",
       "      <td>2,9 Mio. kWh</td>\n",
       "    </tr>\n",
       "    <tr>\n",
       "      <th>rothsee2</th>\n",
       "      <td>848 kW</td>\n",
       "      <td>2013</td>\n",
       "      <td>2,3 Mio. kWh</td>\n",
       "    </tr>\n",
       "    <tr>\n",
       "      <th>rottachsee</th>\n",
       "      <td>450 kW</td>\n",
       "      <td>1990</td>\n",
       "      <td>1,4 Mio. kWh</td>\n",
       "    </tr>\n",
       "    <tr>\n",
       "      <th>silbersee</th>\n",
       "      <td>90 kW</td>\n",
       "      <td>1967</td>\n",
       "      <td>0,3 Mio. kWh</td>\n",
       "    </tr>\n",
       "    <tr>\n",
       "      <th>surspeicher</th>\n",
       "      <td>250 kW</td>\n",
       "      <td>1968</td>\n",
       "      <td>0,8 Mio. kWh</td>\n",
       "    </tr>\n",
       "    <tr>\n",
       "      <th>sylvenstein1</th>\n",
       "      <td>2.508 kW</td>\n",
       "      <td>1959, Sanierung 2003</td>\n",
       "      <td>8,7 Mio. kWh</td>\n",
       "    </tr>\n",
       "    <tr>\n",
       "      <th>sylvenstein2</th>\n",
       "      <td>3.780 kW</td>\n",
       "      <td>2000</td>\n",
       "      <td>16,4 Mio. kWh</td>\n",
       "    </tr>\n",
       "    <tr>\n",
       "      <th>windach</th>\n",
       "      <td>40 kW</td>\n",
       "      <td>1964</td>\n",
       "      <td>0,1 Mio. kWh</td>\n",
       "    </tr>\n",
       "  </tbody>\n",
       "</table>\n",
       "</div>"
      ],
      "text/plain": [
       "             installed power     construction year yearly produced power\n",
       "brombachsee           615 kW                  1996          1,2 Mio. kWh\n",
       "drachensee            130 kW                  2008          0,5 Mio. kWh\n",
       "eixendorf           1.300 KW                  1976          2,9 Mio. kWh\n",
       "foermitz              150 kW                  1991          0,3 Mio. kWh\n",
       "frauenau              600 kW                  1982          3,6 Mio. kWh\n",
       "hilpoltstein        3.300 kW                  1993          8,1 Mio. kWh\n",
       "leerstetten         1.093 kW                  2013          3,3 Mio. kWh\n",
       "liebenstein           160 KW                  1967          0,4 Mio. kWh\n",
       "mauthaus              420 kW                  1973          1,1 Mio. kWh\n",
       "postmuenster          300 kW                  1972          0,9 Mio. kWh\n",
       "rothsee1              765 kW                  1994          2,9 Mio. kWh\n",
       "rothsee2              848 kW                  2013          2,3 Mio. kWh\n",
       "rottachsee            450 kW                  1990          1,4 Mio. kWh\n",
       "silbersee              90 kW                  1967          0,3 Mio. kWh\n",
       "surspeicher           250 kW                  1968          0,8 Mio. kWh\n",
       "sylvenstein1        2.508 kW  1959, Sanierung 2003          8,7 Mio. kWh\n",
       "sylvenstein2        3.780 kW                  2000         16,4 Mio. kWh\n",
       "windach                40 kW                  1964          0,1 Mio. kWh"
      ]
     },
     "execution_count": 11,
     "metadata": {},
     "output_type": "execute_result"
    }
   ],
   "source": [
    "df"
   ]
  },
  {
   "cell_type": "code",
   "execution_count": 12,
   "id": "8eaf5ab0",
   "metadata": {},
   "outputs": [
    {
     "data": {
      "text/plain": [
       "'160 kw'"
      ]
     },
     "execution_count": 12,
     "metadata": {},
     "output_type": "execute_result"
    }
   ],
   "source": [
    "df.iat[7,0].lower()"
   ]
  },
  {
   "cell_type": "code",
   "execution_count": 23,
   "id": "1a015b80",
   "metadata": {},
   "outputs": [
    {
     "ename": "AttributeError",
     "evalue": "'float' object has no attribute 'lower'",
     "output_type": "error",
     "traceback": [
      "\u001b[0;31m---------------------------------------------------------------------------\u001b[0m",
      "\u001b[0;31mAttributeError\u001b[0m                            Traceback (most recent call last)",
      "\u001b[0;32m<ipython-input-23-57d60ea96087>\u001b[0m in \u001b[0;36m<module>\u001b[0;34m\u001b[0m\n\u001b[1;32m      2\u001b[0m \u001b[0mdf\u001b[0m\u001b[0;34m[\u001b[0m\u001b[0;34m'installed power'\u001b[0m\u001b[0;34m]\u001b[0m \u001b[0;34m=\u001b[0m \u001b[0mdf\u001b[0m\u001b[0;34m[\u001b[0m\u001b[0;34m'installed power'\u001b[0m\u001b[0;34m]\u001b[0m\u001b[0;34m.\u001b[0m\u001b[0mapply\u001b[0m\u001b[0;34m(\u001b[0m\u001b[0;32mlambda\u001b[0m \u001b[0mx\u001b[0m \u001b[0;34m:\u001b[0m \u001b[0mint\u001b[0m\u001b[0;34m(\u001b[0m\u001b[0mx\u001b[0m\u001b[0;34m.\u001b[0m\u001b[0mreplace\u001b[0m\u001b[0;34m(\u001b[0m\u001b[0;34m'.'\u001b[0m\u001b[0;34m,\u001b[0m \u001b[0;34m''\u001b[0m\u001b[0;34m)\u001b[0m\u001b[0;34m)\u001b[0m\u001b[0;34m)\u001b[0m\u001b[0;34m\u001b[0m\u001b[0;34m\u001b[0m\u001b[0m\n\u001b[1;32m      3\u001b[0m \u001b[0;34m\u001b[0m\u001b[0m\n\u001b[0;32m----> 4\u001b[0;31m \u001b[0mdf\u001b[0m\u001b[0;34m[\u001b[0m\u001b[0;34m'yearly produced power'\u001b[0m\u001b[0;34m]\u001b[0m \u001b[0;34m=\u001b[0m \u001b[0mdf\u001b[0m\u001b[0;34m[\u001b[0m\u001b[0;34m'yearly produced power'\u001b[0m\u001b[0;34m]\u001b[0m\u001b[0;34m.\u001b[0m\u001b[0mapply\u001b[0m\u001b[0;34m(\u001b[0m\u001b[0;32mlambda\u001b[0m \u001b[0mx\u001b[0m \u001b[0;34m:\u001b[0m \u001b[0mx\u001b[0m\u001b[0;34m.\u001b[0m\u001b[0mlower\u001b[0m\u001b[0;34m(\u001b[0m\u001b[0;34m)\u001b[0m\u001b[0;34m.\u001b[0m\u001b[0mreplace\u001b[0m\u001b[0;34m(\u001b[0m\u001b[0;34m' mio. kwh'\u001b[0m\u001b[0;34m,\u001b[0m \u001b[0;34m''\u001b[0m\u001b[0;34m)\u001b[0m\u001b[0;34m)\u001b[0m\u001b[0;34m\u001b[0m\u001b[0;34m\u001b[0m\u001b[0m\n\u001b[0m\u001b[1;32m      5\u001b[0m \u001b[0mdf\u001b[0m\u001b[0;34m[\u001b[0m\u001b[0;34m'yearly produced power'\u001b[0m\u001b[0;34m]\u001b[0m \u001b[0;34m=\u001b[0m \u001b[0mdf\u001b[0m\u001b[0;34m[\u001b[0m\u001b[0;34m'yearly produced power'\u001b[0m\u001b[0;34m]\u001b[0m\u001b[0;34m.\u001b[0m\u001b[0mapply\u001b[0m\u001b[0;34m(\u001b[0m\u001b[0;32mlambda\u001b[0m \u001b[0mx\u001b[0m \u001b[0;34m:\u001b[0m \u001b[0mfloat\u001b[0m\u001b[0;34m(\u001b[0m\u001b[0mx\u001b[0m\u001b[0;34m.\u001b[0m\u001b[0mreplace\u001b[0m\u001b[0;34m(\u001b[0m\u001b[0;34m','\u001b[0m\u001b[0;34m,\u001b[0m\u001b[0;34m'.'\u001b[0m\u001b[0;34m)\u001b[0m\u001b[0;34m)\u001b[0m\u001b[0;34m*\u001b[0m\u001b[0;36m10E6\u001b[0m\u001b[0;34m)\u001b[0m\u001b[0;34m\u001b[0m\u001b[0;34m\u001b[0m\u001b[0m\n",
      "\u001b[0;32m/opt/anaconda3/lib/python3.8/site-packages/pandas/core/series.py\u001b[0m in \u001b[0;36mapply\u001b[0;34m(self, func, convert_dtype, args, **kwds)\u001b[0m\n\u001b[1;32m   4136\u001b[0m             \u001b[0;32melse\u001b[0m\u001b[0;34m:\u001b[0m\u001b[0;34m\u001b[0m\u001b[0;34m\u001b[0m\u001b[0m\n\u001b[1;32m   4137\u001b[0m                 \u001b[0mvalues\u001b[0m \u001b[0;34m=\u001b[0m \u001b[0mself\u001b[0m\u001b[0;34m.\u001b[0m\u001b[0mastype\u001b[0m\u001b[0;34m(\u001b[0m\u001b[0mobject\u001b[0m\u001b[0;34m)\u001b[0m\u001b[0;34m.\u001b[0m\u001b[0m_values\u001b[0m\u001b[0;34m\u001b[0m\u001b[0;34m\u001b[0m\u001b[0m\n\u001b[0;32m-> 4138\u001b[0;31m                 \u001b[0mmapped\u001b[0m \u001b[0;34m=\u001b[0m \u001b[0mlib\u001b[0m\u001b[0;34m.\u001b[0m\u001b[0mmap_infer\u001b[0m\u001b[0;34m(\u001b[0m\u001b[0mvalues\u001b[0m\u001b[0;34m,\u001b[0m \u001b[0mf\u001b[0m\u001b[0;34m,\u001b[0m \u001b[0mconvert\u001b[0m\u001b[0;34m=\u001b[0m\u001b[0mconvert_dtype\u001b[0m\u001b[0;34m)\u001b[0m\u001b[0;34m\u001b[0m\u001b[0;34m\u001b[0m\u001b[0m\n\u001b[0m\u001b[1;32m   4139\u001b[0m \u001b[0;34m\u001b[0m\u001b[0m\n\u001b[1;32m   4140\u001b[0m         \u001b[0;32mif\u001b[0m \u001b[0mlen\u001b[0m\u001b[0;34m(\u001b[0m\u001b[0mmapped\u001b[0m\u001b[0;34m)\u001b[0m \u001b[0;32mand\u001b[0m \u001b[0misinstance\u001b[0m\u001b[0;34m(\u001b[0m\u001b[0mmapped\u001b[0m\u001b[0;34m[\u001b[0m\u001b[0;36m0\u001b[0m\u001b[0;34m]\u001b[0m\u001b[0;34m,\u001b[0m \u001b[0mSeries\u001b[0m\u001b[0;34m)\u001b[0m\u001b[0;34m:\u001b[0m\u001b[0;34m\u001b[0m\u001b[0;34m\u001b[0m\u001b[0m\n",
      "\u001b[0;32mpandas/_libs/lib.pyx\u001b[0m in \u001b[0;36mpandas._libs.lib.map_infer\u001b[0;34m()\u001b[0m\n",
      "\u001b[0;32m<ipython-input-23-57d60ea96087>\u001b[0m in \u001b[0;36m<lambda>\u001b[0;34m(x)\u001b[0m\n\u001b[1;32m      2\u001b[0m \u001b[0mdf\u001b[0m\u001b[0;34m[\u001b[0m\u001b[0;34m'installed power'\u001b[0m\u001b[0;34m]\u001b[0m \u001b[0;34m=\u001b[0m \u001b[0mdf\u001b[0m\u001b[0;34m[\u001b[0m\u001b[0;34m'installed power'\u001b[0m\u001b[0;34m]\u001b[0m\u001b[0;34m.\u001b[0m\u001b[0mapply\u001b[0m\u001b[0;34m(\u001b[0m\u001b[0;32mlambda\u001b[0m \u001b[0mx\u001b[0m \u001b[0;34m:\u001b[0m \u001b[0mint\u001b[0m\u001b[0;34m(\u001b[0m\u001b[0mx\u001b[0m\u001b[0;34m.\u001b[0m\u001b[0mreplace\u001b[0m\u001b[0;34m(\u001b[0m\u001b[0;34m'.'\u001b[0m\u001b[0;34m,\u001b[0m \u001b[0;34m''\u001b[0m\u001b[0;34m)\u001b[0m\u001b[0;34m)\u001b[0m\u001b[0;34m)\u001b[0m\u001b[0;34m\u001b[0m\u001b[0;34m\u001b[0m\u001b[0m\n\u001b[1;32m      3\u001b[0m \u001b[0;34m\u001b[0m\u001b[0m\n\u001b[0;32m----> 4\u001b[0;31m \u001b[0mdf\u001b[0m\u001b[0;34m[\u001b[0m\u001b[0;34m'yearly produced power'\u001b[0m\u001b[0;34m]\u001b[0m \u001b[0;34m=\u001b[0m \u001b[0mdf\u001b[0m\u001b[0;34m[\u001b[0m\u001b[0;34m'yearly produced power'\u001b[0m\u001b[0;34m]\u001b[0m\u001b[0;34m.\u001b[0m\u001b[0mapply\u001b[0m\u001b[0;34m(\u001b[0m\u001b[0;32mlambda\u001b[0m \u001b[0mx\u001b[0m \u001b[0;34m:\u001b[0m \u001b[0mx\u001b[0m\u001b[0;34m.\u001b[0m\u001b[0mlower\u001b[0m\u001b[0;34m(\u001b[0m\u001b[0;34m)\u001b[0m\u001b[0;34m.\u001b[0m\u001b[0mreplace\u001b[0m\u001b[0;34m(\u001b[0m\u001b[0;34m' mio. kwh'\u001b[0m\u001b[0;34m,\u001b[0m \u001b[0;34m''\u001b[0m\u001b[0;34m)\u001b[0m\u001b[0;34m)\u001b[0m\u001b[0;34m\u001b[0m\u001b[0;34m\u001b[0m\u001b[0m\n\u001b[0m\u001b[1;32m      5\u001b[0m \u001b[0mdf\u001b[0m\u001b[0;34m[\u001b[0m\u001b[0;34m'yearly produced power'\u001b[0m\u001b[0;34m]\u001b[0m \u001b[0;34m=\u001b[0m \u001b[0mdf\u001b[0m\u001b[0;34m[\u001b[0m\u001b[0;34m'yearly produced power'\u001b[0m\u001b[0;34m]\u001b[0m\u001b[0;34m.\u001b[0m\u001b[0mapply\u001b[0m\u001b[0;34m(\u001b[0m\u001b[0;32mlambda\u001b[0m \u001b[0mx\u001b[0m \u001b[0;34m:\u001b[0m \u001b[0mfloat\u001b[0m\u001b[0;34m(\u001b[0m\u001b[0mx\u001b[0m\u001b[0;34m.\u001b[0m\u001b[0mreplace\u001b[0m\u001b[0;34m(\u001b[0m\u001b[0;34m','\u001b[0m\u001b[0;34m,\u001b[0m\u001b[0;34m'.'\u001b[0m\u001b[0;34m)\u001b[0m\u001b[0;34m)\u001b[0m\u001b[0;34m*\u001b[0m\u001b[0;36m10E6\u001b[0m\u001b[0;34m)\u001b[0m\u001b[0;34m\u001b[0m\u001b[0;34m\u001b[0m\u001b[0m\n",
      "\u001b[0;31mAttributeError\u001b[0m: 'float' object has no attribute 'lower'"
     ]
    }
   ],
   "source": [
    "df['installed power'] = df['installed power'].apply(lambda x : x.lower().replace(' kw', ''))\n",
    "df['installed power'] = df['installed power'].apply(lambda x : int(x.replace('.', '')))\n",
    "\n",
    "df['yearly produced power'] = df['yearly produced power'].apply(lambda x : x.lower().replace(' mio. kwh', ''))\n",
    "df['yearly produced power'] = df['yearly produced power'].apply(lambda x : float(x.replace(',','.'))*10E6)"
   ]
  },
  {
   "cell_type": "code",
   "execution_count": 14,
   "id": "35e95b9b",
   "metadata": {},
   "outputs": [
    {
     "data": {
      "text/html": [
       "<div>\n",
       "<style scoped>\n",
       "    .dataframe tbody tr th:only-of-type {\n",
       "        vertical-align: middle;\n",
       "    }\n",
       "\n",
       "    .dataframe tbody tr th {\n",
       "        vertical-align: top;\n",
       "    }\n",
       "\n",
       "    .dataframe thead th {\n",
       "        text-align: right;\n",
       "    }\n",
       "</style>\n",
       "<table border=\"1\" class=\"dataframe\">\n",
       "  <thead>\n",
       "    <tr style=\"text-align: right;\">\n",
       "      <th></th>\n",
       "      <th>installed power</th>\n",
       "      <th>construction year</th>\n",
       "      <th>yearly produced power</th>\n",
       "    </tr>\n",
       "  </thead>\n",
       "  <tbody>\n",
       "    <tr>\n",
       "      <th>brombachsee</th>\n",
       "      <td>615 kW</td>\n",
       "      <td>1996</td>\n",
       "      <td>12000000.0</td>\n",
       "    </tr>\n",
       "    <tr>\n",
       "      <th>drachensee</th>\n",
       "      <td>130 kW</td>\n",
       "      <td>2008</td>\n",
       "      <td>5000000.0</td>\n",
       "    </tr>\n",
       "    <tr>\n",
       "      <th>eixendorf</th>\n",
       "      <td>1.300 KW</td>\n",
       "      <td>1976</td>\n",
       "      <td>29000000.0</td>\n",
       "    </tr>\n",
       "    <tr>\n",
       "      <th>foermitz</th>\n",
       "      <td>150 kW</td>\n",
       "      <td>1991</td>\n",
       "      <td>3000000.0</td>\n",
       "    </tr>\n",
       "    <tr>\n",
       "      <th>frauenau</th>\n",
       "      <td>600 kW</td>\n",
       "      <td>1982</td>\n",
       "      <td>36000000.0</td>\n",
       "    </tr>\n",
       "    <tr>\n",
       "      <th>hilpoltstein</th>\n",
       "      <td>3.300 kW</td>\n",
       "      <td>1993</td>\n",
       "      <td>81000000.0</td>\n",
       "    </tr>\n",
       "    <tr>\n",
       "      <th>leerstetten</th>\n",
       "      <td>1.093 kW</td>\n",
       "      <td>2013</td>\n",
       "      <td>33000000.0</td>\n",
       "    </tr>\n",
       "    <tr>\n",
       "      <th>liebenstein</th>\n",
       "      <td>160 KW</td>\n",
       "      <td>1967</td>\n",
       "      <td>4000000.0</td>\n",
       "    </tr>\n",
       "    <tr>\n",
       "      <th>mauthaus</th>\n",
       "      <td>420 kW</td>\n",
       "      <td>1973</td>\n",
       "      <td>11000000.0</td>\n",
       "    </tr>\n",
       "    <tr>\n",
       "      <th>postmuenster</th>\n",
       "      <td>300 kW</td>\n",
       "      <td>1972</td>\n",
       "      <td>9000000.0</td>\n",
       "    </tr>\n",
       "    <tr>\n",
       "      <th>rothsee1</th>\n",
       "      <td>765 kW</td>\n",
       "      <td>1994</td>\n",
       "      <td>29000000.0</td>\n",
       "    </tr>\n",
       "    <tr>\n",
       "      <th>rothsee2</th>\n",
       "      <td>848 kW</td>\n",
       "      <td>2013</td>\n",
       "      <td>23000000.0</td>\n",
       "    </tr>\n",
       "    <tr>\n",
       "      <th>rottachsee</th>\n",
       "      <td>450 kW</td>\n",
       "      <td>1990</td>\n",
       "      <td>14000000.0</td>\n",
       "    </tr>\n",
       "    <tr>\n",
       "      <th>silbersee</th>\n",
       "      <td>90 kW</td>\n",
       "      <td>1967</td>\n",
       "      <td>3000000.0</td>\n",
       "    </tr>\n",
       "    <tr>\n",
       "      <th>surspeicher</th>\n",
       "      <td>250 kW</td>\n",
       "      <td>1968</td>\n",
       "      <td>8000000.0</td>\n",
       "    </tr>\n",
       "    <tr>\n",
       "      <th>sylvenstein1</th>\n",
       "      <td>2.508 kW</td>\n",
       "      <td>1959, Sanierung 2003</td>\n",
       "      <td>87000000.0</td>\n",
       "    </tr>\n",
       "    <tr>\n",
       "      <th>sylvenstein2</th>\n",
       "      <td>3.780 kW</td>\n",
       "      <td>2000</td>\n",
       "      <td>164000000.0</td>\n",
       "    </tr>\n",
       "    <tr>\n",
       "      <th>windach</th>\n",
       "      <td>40 kW</td>\n",
       "      <td>1964</td>\n",
       "      <td>1000000.0</td>\n",
       "    </tr>\n",
       "  </tbody>\n",
       "</table>\n",
       "</div>"
      ],
      "text/plain": [
       "             installed power     construction year  yearly produced power\n",
       "brombachsee           615 kW                  1996             12000000.0\n",
       "drachensee            130 kW                  2008              5000000.0\n",
       "eixendorf           1.300 KW                  1976             29000000.0\n",
       "foermitz              150 kW                  1991              3000000.0\n",
       "frauenau              600 kW                  1982             36000000.0\n",
       "hilpoltstein        3.300 kW                  1993             81000000.0\n",
       "leerstetten         1.093 kW                  2013             33000000.0\n",
       "liebenstein           160 KW                  1967              4000000.0\n",
       "mauthaus              420 kW                  1973             11000000.0\n",
       "postmuenster          300 kW                  1972              9000000.0\n",
       "rothsee1              765 kW                  1994             29000000.0\n",
       "rothsee2              848 kW                  2013             23000000.0\n",
       "rottachsee            450 kW                  1990             14000000.0\n",
       "silbersee              90 kW                  1967              3000000.0\n",
       "surspeicher           250 kW                  1968              8000000.0\n",
       "sylvenstein1        2.508 kW  1959, Sanierung 2003             87000000.0\n",
       "sylvenstein2        3.780 kW                  2000            164000000.0\n",
       "windach                40 kW                  1964              1000000.0"
      ]
     },
     "execution_count": 14,
     "metadata": {},
     "output_type": "execute_result"
    }
   ],
   "source": [
    "df"
   ]
  },
  {
   "cell_type": "code",
   "execution_count": 20,
   "id": "4bb2958f",
   "metadata": {},
   "outputs": [
    {
     "ename": "AttributeError",
     "evalue": "'int' object has no attribute 'lower'",
     "output_type": "error",
     "traceback": [
      "\u001b[0;31m---------------------------------------------------------------------------\u001b[0m",
      "\u001b[0;31mAttributeError\u001b[0m                            Traceback (most recent call last)",
      "\u001b[0;32m<ipython-input-20-f3c5aac79057>\u001b[0m in \u001b[0;36m<module>\u001b[0;34m\u001b[0m\n\u001b[0;32m----> 1\u001b[0;31m \u001b[0mdf\u001b[0m\u001b[0;34m[\u001b[0m\u001b[0;34m'construction year'\u001b[0m\u001b[0;34m]\u001b[0m \u001b[0;34m=\u001b[0m \u001b[0mdf\u001b[0m\u001b[0;34m[\u001b[0m\u001b[0;34m'construction year'\u001b[0m\u001b[0;34m]\u001b[0m\u001b[0;34m.\u001b[0m\u001b[0mapply\u001b[0m\u001b[0;34m(\u001b[0m\u001b[0;32mlambda\u001b[0m \u001b[0mx\u001b[0m \u001b[0;34m:\u001b[0m \u001b[0mx\u001b[0m\u001b[0;34m.\u001b[0m\u001b[0mlower\u001b[0m\u001b[0;34m(\u001b[0m\u001b[0;34m)\u001b[0m\u001b[0;34m.\u001b[0m\u001b[0mreplace\u001b[0m\u001b[0;34m(\u001b[0m\u001b[0;34m', sanierung 2003'\u001b[0m\u001b[0;34m,\u001b[0m \u001b[0;34m''\u001b[0m\u001b[0;34m)\u001b[0m\u001b[0;34m)\u001b[0m\u001b[0;34m\u001b[0m\u001b[0;34m\u001b[0m\u001b[0m\n\u001b[0m\u001b[1;32m      2\u001b[0m \u001b[0mdf\u001b[0m\u001b[0;34m[\u001b[0m\u001b[0;34m'construction year'\u001b[0m\u001b[0;34m]\u001b[0m \u001b[0;34m=\u001b[0m \u001b[0mdf\u001b[0m\u001b[0;34m[\u001b[0m\u001b[0;34m'construction year'\u001b[0m\u001b[0;34m]\u001b[0m\u001b[0;34m.\u001b[0m\u001b[0mapply\u001b[0m\u001b[0;34m(\u001b[0m\u001b[0;32mlambda\u001b[0m \u001b[0mx\u001b[0m \u001b[0;34m:\u001b[0m \u001b[0mint\u001b[0m\u001b[0;34m(\u001b[0m\u001b[0mx\u001b[0m\u001b[0;34m)\u001b[0m\u001b[0;34m)\u001b[0m\u001b[0;34m\u001b[0m\u001b[0;34m\u001b[0m\u001b[0m\n",
      "\u001b[0;32m/opt/anaconda3/lib/python3.8/site-packages/pandas/core/series.py\u001b[0m in \u001b[0;36mapply\u001b[0;34m(self, func, convert_dtype, args, **kwds)\u001b[0m\n\u001b[1;32m   4136\u001b[0m             \u001b[0;32melse\u001b[0m\u001b[0;34m:\u001b[0m\u001b[0;34m\u001b[0m\u001b[0;34m\u001b[0m\u001b[0m\n\u001b[1;32m   4137\u001b[0m                 \u001b[0mvalues\u001b[0m \u001b[0;34m=\u001b[0m \u001b[0mself\u001b[0m\u001b[0;34m.\u001b[0m\u001b[0mastype\u001b[0m\u001b[0;34m(\u001b[0m\u001b[0mobject\u001b[0m\u001b[0;34m)\u001b[0m\u001b[0;34m.\u001b[0m\u001b[0m_values\u001b[0m\u001b[0;34m\u001b[0m\u001b[0;34m\u001b[0m\u001b[0m\n\u001b[0;32m-> 4138\u001b[0;31m                 \u001b[0mmapped\u001b[0m \u001b[0;34m=\u001b[0m \u001b[0mlib\u001b[0m\u001b[0;34m.\u001b[0m\u001b[0mmap_infer\u001b[0m\u001b[0;34m(\u001b[0m\u001b[0mvalues\u001b[0m\u001b[0;34m,\u001b[0m \u001b[0mf\u001b[0m\u001b[0;34m,\u001b[0m \u001b[0mconvert\u001b[0m\u001b[0;34m=\u001b[0m\u001b[0mconvert_dtype\u001b[0m\u001b[0;34m)\u001b[0m\u001b[0;34m\u001b[0m\u001b[0;34m\u001b[0m\u001b[0m\n\u001b[0m\u001b[1;32m   4139\u001b[0m \u001b[0;34m\u001b[0m\u001b[0m\n\u001b[1;32m   4140\u001b[0m         \u001b[0;32mif\u001b[0m \u001b[0mlen\u001b[0m\u001b[0;34m(\u001b[0m\u001b[0mmapped\u001b[0m\u001b[0;34m)\u001b[0m \u001b[0;32mand\u001b[0m \u001b[0misinstance\u001b[0m\u001b[0;34m(\u001b[0m\u001b[0mmapped\u001b[0m\u001b[0;34m[\u001b[0m\u001b[0;36m0\u001b[0m\u001b[0;34m]\u001b[0m\u001b[0;34m,\u001b[0m \u001b[0mSeries\u001b[0m\u001b[0;34m)\u001b[0m\u001b[0;34m:\u001b[0m\u001b[0;34m\u001b[0m\u001b[0;34m\u001b[0m\u001b[0m\n",
      "\u001b[0;32mpandas/_libs/lib.pyx\u001b[0m in \u001b[0;36mpandas._libs.lib.map_infer\u001b[0;34m()\u001b[0m\n",
      "\u001b[0;32m<ipython-input-20-f3c5aac79057>\u001b[0m in \u001b[0;36m<lambda>\u001b[0;34m(x)\u001b[0m\n\u001b[0;32m----> 1\u001b[0;31m \u001b[0mdf\u001b[0m\u001b[0;34m[\u001b[0m\u001b[0;34m'construction year'\u001b[0m\u001b[0;34m]\u001b[0m \u001b[0;34m=\u001b[0m \u001b[0mdf\u001b[0m\u001b[0;34m[\u001b[0m\u001b[0;34m'construction year'\u001b[0m\u001b[0;34m]\u001b[0m\u001b[0;34m.\u001b[0m\u001b[0mapply\u001b[0m\u001b[0;34m(\u001b[0m\u001b[0;32mlambda\u001b[0m \u001b[0mx\u001b[0m \u001b[0;34m:\u001b[0m \u001b[0mx\u001b[0m\u001b[0;34m.\u001b[0m\u001b[0mlower\u001b[0m\u001b[0;34m(\u001b[0m\u001b[0;34m)\u001b[0m\u001b[0;34m.\u001b[0m\u001b[0mreplace\u001b[0m\u001b[0;34m(\u001b[0m\u001b[0;34m', sanierung 2003'\u001b[0m\u001b[0;34m,\u001b[0m \u001b[0;34m''\u001b[0m\u001b[0;34m)\u001b[0m\u001b[0;34m)\u001b[0m\u001b[0;34m\u001b[0m\u001b[0;34m\u001b[0m\u001b[0m\n\u001b[0m\u001b[1;32m      2\u001b[0m \u001b[0mdf\u001b[0m\u001b[0;34m[\u001b[0m\u001b[0;34m'construction year'\u001b[0m\u001b[0;34m]\u001b[0m \u001b[0;34m=\u001b[0m \u001b[0mdf\u001b[0m\u001b[0;34m[\u001b[0m\u001b[0;34m'construction year'\u001b[0m\u001b[0;34m]\u001b[0m\u001b[0;34m.\u001b[0m\u001b[0mapply\u001b[0m\u001b[0;34m(\u001b[0m\u001b[0;32mlambda\u001b[0m \u001b[0mx\u001b[0m \u001b[0;34m:\u001b[0m \u001b[0mint\u001b[0m\u001b[0;34m(\u001b[0m\u001b[0mx\u001b[0m\u001b[0;34m)\u001b[0m\u001b[0;34m)\u001b[0m\u001b[0;34m\u001b[0m\u001b[0;34m\u001b[0m\u001b[0m\n",
      "\u001b[0;31mAttributeError\u001b[0m: 'int' object has no attribute 'lower'"
     ]
    }
   ],
   "source": [
    "df['construction year'] = df['construction year'].apply(lambda x : x.lower().replace(', sanierung 2003', ''))\n",
    "df['construction year'] = df['construction year'].apply(lambda x : int(x))"
   ]
  },
  {
   "cell_type": "code",
   "execution_count": 24,
   "id": "b6b0bcaa",
   "metadata": {},
   "outputs": [
    {
     "data": {
      "text/html": [
       "<div>\n",
       "<style scoped>\n",
       "    .dataframe tbody tr th:only-of-type {\n",
       "        vertical-align: middle;\n",
       "    }\n",
       "\n",
       "    .dataframe tbody tr th {\n",
       "        vertical-align: top;\n",
       "    }\n",
       "\n",
       "    .dataframe thead th {\n",
       "        text-align: right;\n",
       "    }\n",
       "</style>\n",
       "<table border=\"1\" class=\"dataframe\">\n",
       "  <thead>\n",
       "    <tr style=\"text-align: right;\">\n",
       "      <th></th>\n",
       "      <th>installed power</th>\n",
       "      <th>construction year</th>\n",
       "      <th>yearly produced power</th>\n",
       "    </tr>\n",
       "  </thead>\n",
       "  <tbody>\n",
       "    <tr>\n",
       "      <th>brombachsee</th>\n",
       "      <td>615</td>\n",
       "      <td>1996</td>\n",
       "      <td>12000000.0</td>\n",
       "    </tr>\n",
       "    <tr>\n",
       "      <th>drachensee</th>\n",
       "      <td>130</td>\n",
       "      <td>2008</td>\n",
       "      <td>5000000.0</td>\n",
       "    </tr>\n",
       "    <tr>\n",
       "      <th>eixendorf</th>\n",
       "      <td>1300</td>\n",
       "      <td>1976</td>\n",
       "      <td>29000000.0</td>\n",
       "    </tr>\n",
       "    <tr>\n",
       "      <th>foermitz</th>\n",
       "      <td>150</td>\n",
       "      <td>1991</td>\n",
       "      <td>3000000.0</td>\n",
       "    </tr>\n",
       "    <tr>\n",
       "      <th>frauenau</th>\n",
       "      <td>600</td>\n",
       "      <td>1982</td>\n",
       "      <td>36000000.0</td>\n",
       "    </tr>\n",
       "    <tr>\n",
       "      <th>hilpoltstein</th>\n",
       "      <td>3300</td>\n",
       "      <td>1993</td>\n",
       "      <td>81000000.0</td>\n",
       "    </tr>\n",
       "    <tr>\n",
       "      <th>leerstetten</th>\n",
       "      <td>1093</td>\n",
       "      <td>2013</td>\n",
       "      <td>33000000.0</td>\n",
       "    </tr>\n",
       "    <tr>\n",
       "      <th>liebenstein</th>\n",
       "      <td>160</td>\n",
       "      <td>1967</td>\n",
       "      <td>4000000.0</td>\n",
       "    </tr>\n",
       "    <tr>\n",
       "      <th>mauthaus</th>\n",
       "      <td>420</td>\n",
       "      <td>1973</td>\n",
       "      <td>11000000.0</td>\n",
       "    </tr>\n",
       "    <tr>\n",
       "      <th>postmuenster</th>\n",
       "      <td>300</td>\n",
       "      <td>1972</td>\n",
       "      <td>9000000.0</td>\n",
       "    </tr>\n",
       "    <tr>\n",
       "      <th>rothsee1</th>\n",
       "      <td>765</td>\n",
       "      <td>1994</td>\n",
       "      <td>29000000.0</td>\n",
       "    </tr>\n",
       "    <tr>\n",
       "      <th>rothsee2</th>\n",
       "      <td>848</td>\n",
       "      <td>2013</td>\n",
       "      <td>23000000.0</td>\n",
       "    </tr>\n",
       "    <tr>\n",
       "      <th>rottachsee</th>\n",
       "      <td>450</td>\n",
       "      <td>1990</td>\n",
       "      <td>14000000.0</td>\n",
       "    </tr>\n",
       "    <tr>\n",
       "      <th>silbersee</th>\n",
       "      <td>90</td>\n",
       "      <td>1967</td>\n",
       "      <td>3000000.0</td>\n",
       "    </tr>\n",
       "    <tr>\n",
       "      <th>surspeicher</th>\n",
       "      <td>250</td>\n",
       "      <td>1968</td>\n",
       "      <td>8000000.0</td>\n",
       "    </tr>\n",
       "    <tr>\n",
       "      <th>sylvenstein1</th>\n",
       "      <td>2508</td>\n",
       "      <td>1959</td>\n",
       "      <td>87000000.0</td>\n",
       "    </tr>\n",
       "    <tr>\n",
       "      <th>sylvenstein2</th>\n",
       "      <td>3780</td>\n",
       "      <td>2000</td>\n",
       "      <td>164000000.0</td>\n",
       "    </tr>\n",
       "    <tr>\n",
       "      <th>windach</th>\n",
       "      <td>40</td>\n",
       "      <td>1964</td>\n",
       "      <td>1000000.0</td>\n",
       "    </tr>\n",
       "  </tbody>\n",
       "</table>\n",
       "</div>"
      ],
      "text/plain": [
       "              installed power  construction year  yearly produced power\n",
       "brombachsee               615               1996             12000000.0\n",
       "drachensee                130               2008              5000000.0\n",
       "eixendorf                1300               1976             29000000.0\n",
       "foermitz                  150               1991              3000000.0\n",
       "frauenau                  600               1982             36000000.0\n",
       "hilpoltstein             3300               1993             81000000.0\n",
       "leerstetten              1093               2013             33000000.0\n",
       "liebenstein               160               1967              4000000.0\n",
       "mauthaus                  420               1973             11000000.0\n",
       "postmuenster              300               1972              9000000.0\n",
       "rothsee1                  765               1994             29000000.0\n",
       "rothsee2                  848               2013             23000000.0\n",
       "rottachsee                450               1990             14000000.0\n",
       "silbersee                  90               1967              3000000.0\n",
       "surspeicher               250               1968              8000000.0\n",
       "sylvenstein1             2508               1959             87000000.0\n",
       "sylvenstein2             3780               2000            164000000.0\n",
       "windach                    40               1964              1000000.0"
      ]
     },
     "execution_count": 24,
     "metadata": {},
     "output_type": "execute_result"
    }
   ],
   "source": [
    "df"
   ]
  },
  {
   "cell_type": "code",
   "execution_count": 25,
   "id": "85c9dd84",
   "metadata": {},
   "outputs": [
    {
     "data": {
      "text/html": [
       "<div>\n",
       "<style scoped>\n",
       "    .dataframe tbody tr th:only-of-type {\n",
       "        vertical-align: middle;\n",
       "    }\n",
       "\n",
       "    .dataframe tbody tr th {\n",
       "        vertical-align: top;\n",
       "    }\n",
       "\n",
       "    .dataframe thead th {\n",
       "        text-align: right;\n",
       "    }\n",
       "</style>\n",
       "<table border=\"1\" class=\"dataframe\">\n",
       "  <thead>\n",
       "    <tr style=\"text-align: right;\">\n",
       "      <th></th>\n",
       "      <th>installed power</th>\n",
       "      <th>construction year</th>\n",
       "      <th>yearly produced power</th>\n",
       "    </tr>\n",
       "  </thead>\n",
       "  <tbody>\n",
       "    <tr>\n",
       "      <th>installed power</th>\n",
       "      <td>1.000000</td>\n",
       "      <td>0.193167</td>\n",
       "      <td>0.950854</td>\n",
       "    </tr>\n",
       "    <tr>\n",
       "      <th>construction year</th>\n",
       "      <td>0.193167</td>\n",
       "      <td>1.000000</td>\n",
       "      <td>0.182284</td>\n",
       "    </tr>\n",
       "    <tr>\n",
       "      <th>yearly produced power</th>\n",
       "      <td>0.950854</td>\n",
       "      <td>0.182284</td>\n",
       "      <td>1.000000</td>\n",
       "    </tr>\n",
       "  </tbody>\n",
       "</table>\n",
       "</div>"
      ],
      "text/plain": [
       "                       installed power  construction year  \\\n",
       "installed power               1.000000           0.193167   \n",
       "construction year             0.193167           1.000000   \n",
       "yearly produced power         0.950854           0.182284   \n",
       "\n",
       "                       yearly produced power  \n",
       "installed power                     0.950854  \n",
       "construction year                   0.182284  \n",
       "yearly produced power               1.000000  "
      ]
     },
     "execution_count": 25,
     "metadata": {},
     "output_type": "execute_result"
    }
   ],
   "source": [
    "df.corr()"
   ]
  },
  {
   "cell_type": "code",
   "execution_count": 19,
   "id": "7486250f",
   "metadata": {},
   "outputs": [],
   "source": [
    "import seaborn as sns"
   ]
  },
  {
   "cell_type": "code",
   "execution_count": 24,
   "id": "212f3228",
   "metadata": {},
   "outputs": [
    {
     "data": {
      "text/plain": [
       "<seaborn.axisgrid.PairGrid at 0x7f97316d18e0>"
      ]
     },
     "execution_count": 24,
     "metadata": {},
     "output_type": "execute_result"
    },
    {
     "data": {
      "image/png": "[encoded data removed]",
      "text/plain": [
       "<Figure size 540x540 with 12 Axes>"
      ]
     },
     "metadata": {
      "needs_background": "light"
     },
     "output_type": "display_data"
    }
   ],
   "source": [
    "sns.pairplot(df)"
   ]
  },
  {
   "cell_type": "code",
   "execution_count": null,
   "id": "952dc829",
   "metadata": {},
   "outputs": [],
   "source": []
  }
 ],
 "metadata": {
  "kernelspec": {
   "display_name": "Python 3",
   "language": "python",
   "name": "python3"
  },
  "language_info": {
   "codemirror_mode": {
    "name": "ipython",
    "version": 3
   },
   "file_extension": ".py",
   "mimetype": "text/x-python",
   "name": "python",
   "nbconvert_exporter": "python",
   "pygments_lexer": "ipython3",
   "version": "3.8.8"
  }
 },
 "nbformat": 4,
 "nbformat_minor": 5
}
